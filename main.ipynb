{
 "cells": [
  {
   "cell_type": "markdown",
   "metadata": {},
   "source": [
    "### Imports"
   ]
  },
  {
   "cell_type": "code",
   "execution_count": 73,
   "metadata": {},
   "outputs": [],
   "source": [
    "import os\n",
    "import pandas as pd\n",
    "\n",
    "from langchain.vectorstores import pinecone\n",
    "from langchain.embeddings.openai import OpenAIEmbeddings\n",
    "\n",
    "import openai\n",
    "\n",
    "import pinecone\n",
    "from pinecone import Pinecone\n",
    "\n",
    "from dotenv import load_dotenv\n",
    "env_loaded = load_dotenv()"
   ]
  },
  {
   "cell_type": "code",
   "execution_count": 75,
   "metadata": {},
   "outputs": [],
   "source": [
    "df = pd.read_csv(\"./data/train.csv\")"
   ]
  },
  {
   "cell_type": "code",
   "execution_count": 76,
   "metadata": {},
   "outputs": [],
   "source": [
    "# create index on https://app.pinecone.io/\n",
    "pc = Pinecone()\n",
    "pinecone_index_name = os.getenv(\"PINECONE_INDEX_NAME\")\n",
    "index = pc.Index(name=pinecone_index_name)"
   ]
  },
  {
   "cell_type": "code",
   "execution_count": null,
   "metadata": {},
   "outputs": [],
   "source": [
    "def create_docstore_from_texts(texts: list[str]) -> None:\n",
    "    \"\"\"Function to take a sample from our dataset and insert\n",
    "    them into our Pinecone Index.\n",
    "\n",
    "    Args:\n",
    "        texts (list[str]): list of texts to insert\n",
    "    \"\"\"\n",
    "    pinecone.Pinecone.from_texts(\n",
    "        texts=df[\"ABSTRACT\"].to_list(),\n",
    "        embedding=OpenAIEmbeddings(\n",
    "            openai_api_key=os.getenv(\"OPENAI_API_KEY\"),\n",
    "            model=\"text-embedding-3-large\" # this will have dimensions of 3072, small will have 1536\n",
    "        ),\n",
    "        index_name=pinecone_index_name\n",
    "    )\n",
    "\n",
    "# run this once you have created a pinecone index on https://app.pinecone.io/\n",
    "create_docstore_from_texts(df.sample(n=1000)[\"ABSTRACT\"].to_list())"
   ]
  },
  {
   "cell_type": "markdown",
   "metadata": {},
   "source": [
    "### Query the Index and get some results"
   ]
  },
  {
   "cell_type": "code",
   "execution_count": 78,
   "metadata": {},
   "outputs": [
    {
     "name": "stdout",
     "output_type": "stream",
     "text": [
      "Result 0:   Magnetic Resonance Imaging (MRI) and Positron Emission Tomography (P\n",
      "Result 1:   Obtaining magnetic resonance images (MRI) with high resolution and g\n",
      "Result 2:   Purpose: Magnetic Resonance Fingerprinting (MRF) is a relatively new\n"
     ]
    }
   ],
   "source": [
    "def query_index(query: str) -> None:\n",
    "    query_embedding = openai.embeddings.create(\n",
    "        input=[query],\n",
    "        model=\"text-embedding-3-large\"\n",
    "    ).data[0].embedding\n",
    "\n",
    "    assert isinstance(query_embedding, list), \"'query_embedding' is not of type list!\"\n",
    "\n",
    "    result = index.query(\n",
    "        vector=query_embedding,\n",
    "        top_k=3,\n",
    "        include_metadata=True\n",
    "    )\n",
    "\n",
    "    for idx, match in enumerate(result[\"matches\"]):\n",
    "        print(f\"Result {idx}: {match['metadata']['text'][:70]}\")\n",
    "    \n",
    "query_index(\"MRI\")"
   ]
  },
  {
   "cell_type": "markdown",
   "metadata": {},
   "source": [
    "#### See app.py for streamlit chatbot interfacing with pinecone embeddings"
   ]
  }
 ],
 "metadata": {
  "kernelspec": {
   "display_name": "embeddingswithpinecone-844rP4qO-py3.11",
   "language": "python",
   "name": "python3"
  },
  "language_info": {
   "codemirror_mode": {
    "name": "ipython",
    "version": 3
   },
   "file_extension": ".py",
   "mimetype": "text/x-python",
   "name": "python",
   "nbconvert_exporter": "python",
   "pygments_lexer": "ipython3",
   "version": "3.11.5"
  }
 },
 "nbformat": 4,
 "nbformat_minor": 2
}
